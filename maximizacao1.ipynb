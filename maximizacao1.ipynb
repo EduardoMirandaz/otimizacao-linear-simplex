{
 "cells": [
  {
   "cell_type": "markdown",
   "metadata": {},
   "source": []
  },
  {
   "cell_type": "markdown",
   "metadata": {},
   "source": []
  },
  {
   "cell_type": "markdown",
   "metadata": {},
   "source": []
  },
  {
   "cell_type": "markdown",
   "metadata": {},
   "source": [
    "Portanto, precisamos respeitar as capacidades dos recursos:\n",
    "$$\n",
    "a_{i, 1}x_1 + a_{i, 2}x_2 + \\cdots + a_{i, n}x_n \\le Ci\n",
    "$$\n",
    "\n",
    "a capacidade é dada pela quantidade de recursos e pela quantidade possível de ser formada.\n"
   ]
  },
  {
   "cell_type": "markdown",
   "metadata": {},
   "source": [
    "Existem também restrições de produção mínimas e máximas para cada produto:\n",
    "$$\n",
    "d_j \\le x_j \\le v_j\n",
    "$$\n",
    "$$\n",
    "d_j$$ é o limitante inferior"
   ]
  },
  {
   "cell_type": "markdown",
   "metadata": {},
   "source": [
    "Desta forma, o modelo completo fica da forma\n",
    "$$\n",
    "\\begin{split}\n",
    "    \\max & \\quad \\bm c^T\\bm x\\\\\n",
    "    \\text{s.a:} & \\quad A\\bm x\\le \\bm C\\\\\n",
    "    & \\bm d \\le \\bm x \\le \\bm v\n",
    "\\end{split}"
   ]
  },
  {
   "cell_type": "markdown",
   "metadata": {},
   "source": [
    "**O problema da geladeira.**"
   ]
  },
  {
   "cell_type": "markdown",
   "metadata": {},
   "source": [
    "$x_1$: numero de unidades do modelo luxo \n",
    "\n",
    "$x_2$: numero de unidades do modelo básico \n",
    "\n",
    "$C_1: 25.000$: homens-hora por mês \n",
    "\n",
    "$C_2: 4.500$: capacidade de produção em número de geladeiras por mês \n",
    "\n"
   ]
  },
  {
   "cell_type": "markdown",
   "metadata": {},
   "source": [
    "$c_1 = 100.00:$ lucro unitário do modelo luxo\n",
    "\n",
    "$c_2 = 50.00:$ lucro unitário do modelo básico"
   ]
  },
  {
   "cell_type": "markdown",
   "metadata": {},
   "source": [
    "$a_{1, 1} = 10$, $a_{1, 2} = 8$ \n",
    "$a_{2, 1} = 1$, $a_{2, 2} = 1$ "
   ]
  },
  {
   "cell_type": "markdown",
   "metadata": {},
   "source": [
    "Nesse caso a demanda é o limite superior e o limite inferior é 0.\n",
    "$d_1 = 0$, $d_2 = 0$,\n",
    "$v_1 = 1500$, $v_2 = 6000$\n",
    "\n",
    "Cada unidade do modelo básico leva 8 horas de trabalho de um homem.\n",
    "Cada unidade do modelo luxo leva 10 horas de trabalho de um homem.\n",
    "\n",
    "$a_{2, 1} = 1$, $a_{2, 2} = 1$ acontece pois independente do tipo consegue-se produzir 4500 geladeiras, 1:1 \n"
   ]
  },
  {
   "cell_type": "markdown",
   "metadata": {},
   "source": [
    "$$\n",
    "    \\begin{split}\n",
    "    \\max        & \\quad 100x_1 + 50 x_2\\\\\n",
    "    \\text{s.a:} & \\quad \\begin{pmatrix}\n",
    "                    10 & 8\\\\\n",
    "                    1 & 1 \\\\\n",
    "                    1 & 0 \\\\\n",
    "                    0 & 1\n",
    "                \\end{pmatrix}\\bm x \\le\n",
    "                \\quad \\begin{pmatrix}\n",
    "                    25.000\\\\\n",
    "                    4.500 \\\\\n",
    "                    1.500 \\\\\n",
    "                    6.000\n",
    "                \\end{pmatrix}\n",
    "    \\end{split}\n",
    "$$\n"
   ]
  },
  {
   "cell_type": "markdown",
   "metadata": {},
   "source": []
  }
 ],
 "metadata": {
  "kernelspec": {
   "display_name": "Python 3.10.4 64-bit",
   "language": "python",
   "name": "python3"
  },
  "language_info": {
   "codemirror_mode": {
    "name": "ipython",
    "version": 3
   },
   "file_extension": ".py",
   "mimetype": "text/x-python",
   "name": "python",
   "nbconvert_exporter": "python",
   "pygments_lexer": "ipython3",
   "version": "3.10.6"
  },
  "orig_nbformat": 4,
  "vscode": {
   "interpreter": {
    "hash": "916dbcbb3f70747c44a77c7bcd40155683ae19c65e1c03b4aa3499c5328201f1"
   }
  }
 },
 "nbformat": 4,
 "nbformat_minor": 2
}
