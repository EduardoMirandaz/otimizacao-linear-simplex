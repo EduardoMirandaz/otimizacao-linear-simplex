{
 "cells": [
  {
   "cell_type": "code",
   "execution_count": 4,
   "metadata": {},
   "outputs": [],
   "source": [
    "import scipy.optimize as opt\n",
    "import numpy as np"
   ]
  },
  {
   "cell_type": "markdown",
   "metadata": {},
   "source": [
    "Limitante inferior\n",
    "\n",
    "o numero de colunas da matriz A é sempre o número de variáveis."
   ]
  },
  {
   "cell_type": "code",
   "execution_count": 9,
   "metadata": {},
   "outputs": [
    {
     "name": "stdout",
     "output_type": "stream",
     "text": [
      "[ 0.  0.  6. 10. 12. 14. 17. 89.]\n"
     ]
    }
   ],
   "source": [
    "A = np.zeros( (7,8) )\n",
    "b = np.zeros( (7, ) ) #só para indicar que é uma tupla, \n",
    "                      #que só tem uma dimensão (sete linhas e uma coluna) é quase equivalente a 7,1\n",
    "                      # ao nao passarmos o parametro da coluna, passamos uma tupla de uma dimensão, \n",
    "                      # e não diz se é em pé ou deitado\n",
    "                       \n",
    "A[0, 0] = -1.0; A[0, 2] = 1.0; b[ 0 ] = 6 # descrevendo os pré requisitos. \n",
    "A[1, 1] = -1.0; A[1, 3] = 1.0; b[ 1 ] = 5 \n",
    "A[2, 2] = -1.0; A[2, 3] = 1.0; b[ 2 ] = 4 \n",
    "A[3, 3] = -1.0; A[3, 4] = 1.0; b[ 3 ] = 2 \n",
    "A[4, 4] = -1.0; A[4, 5] = 1.0; b[ 4 ] = 2\n",
    "A[5, 5] = -1.0; A[5, 6] = 1.0; b[ 5 ] = 3 \n",
    "A[6, 6] = -1.0; A[6, 7] = 1.0; b[ 6 ] = 72\n",
    "\n",
    "c = np.zeros( ( 8, ) )\n",
    "c[ -1 ] = 1 # ultima posicao do c é -1 # Custo -> é o vetor esperado\n",
    "\n",
    "# print(A)\n",
    "# print(b)\n",
    "# print(c)\n",
    "              # coloco o - pois queremos uma relação de maior igual logo, multiplicamos por -1\n",
    "              #              bounds -> todos devem ser maiores ou iguais a zero\n",
    "res = opt.linprog(c, -A, -b, bounds = ( 0, None ) )\n",
    "print(res.x)\n"
   ]
  }
 ],
 "metadata": {
  "kernelspec": {
   "display_name": "Python 3.10.4 64-bit",
   "language": "python",
   "name": "python3"
  },
  "language_info": {
   "codemirror_mode": {
    "name": "ipython",
    "version": 3
   },
   "file_extension": ".py",
   "mimetype": "text/x-python",
   "name": "python",
   "nbconvert_exporter": "python",
   "pygments_lexer": "ipython3",
   "version": "3.10.6"
  },
  "orig_nbformat": 4,
  "vscode": {
   "interpreter": {
    "hash": "916dbcbb3f70747c44a77c7bcd40155683ae19c65e1c03b4aa3499c5328201f1"
   }
  }
 },
 "nbformat": 4,
 "nbformat_minor": 2
}
